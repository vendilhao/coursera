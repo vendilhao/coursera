{
 "cells": [
  {
   "cell_type": "markdown",
   "id": "9d1bce9b",
   "metadata": {},
   "source": [
    "<h1> My Jupyter Notebook on IBM Watson Studio <h1>"
   ]
  },
  {
   "cell_type": "markdown",
   "id": "a7bf763b",
   "metadata": {},
   "source": [
    "<b> Rodrigo Da Silva Moreira </b>\n",
    "<br>\n",
    "Statistician"
   ]
  },
  {
   "cell_type": "markdown",
   "id": "aaef4e84",
   "metadata": {},
   "source": [
    "<i> I'm interest in data science because i would like to understand the advances on AI area <i>"
   ]
  },
  {
   "cell_type": "markdown",
   "id": "084c1a7f",
   "metadata": {},
   "source": [
    "<h3> The developed code wil show us the main issue of this leason(week4) <h3>"
   ]
  },
  {
   "cell_type": "code",
   "execution_count": 8,
   "id": "7bf8b0c4",
   "metadata": {},
   "outputs": [
    {
     "name": "stdout",
     "output_type": "stream",
     "text": [
      "The mandatory use of credit card to create an account to work with IBM WATSON\n",
      "None\n"
     ]
    }
   ],
   "source": [
    "def the_reason():\n",
    "    print('The mandatory use of credit card to create an account to work with IBM WATSON')\n",
    "print(the_reason())"
   ]
  },
  {
   "cell_type": "code",
   "execution_count": null,
   "id": "28bb0325",
   "metadata": {},
   "outputs": [],
   "source": []
  }
 ],
 "metadata": {
  "kernelspec": {
   "display_name": "Python 3 (ipykernel)",
   "language": "python",
   "name": "python3"
  },
  "language_info": {
   "codemirror_mode": {
    "name": "ipython",
    "version": 3
   },
   "file_extension": ".py",
   "mimetype": "text/x-python",
   "name": "python",
   "nbconvert_exporter": "python",
   "pygments_lexer": "ipython3",
   "version": "3.8.8"
  }
 },
 "nbformat": 4,
 "nbformat_minor": 5
}
