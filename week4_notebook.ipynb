{
 "cells": [
  {
   "cell_type": "markdown",
   "id": "3953d35e",
   "metadata": {},
   "source": [
    "<h1> My Jupyter Notebook on IBM Watson Studio <h1>"
   ]
  },
  {
   "cell_type": "markdown",
   "id": "80a0e087",
   "metadata": {},
   "source": [
    "<b> Rodrigo Da Silva Moreira </b>\n",
    "<br>\n",
    "Statistician"
   ]
  },
  {
   "cell_type": "markdown",
   "id": "574eba58",
   "metadata": {},
   "source": [
    "<i> I'm interest in data science because i would like to understand the advances on AI area <i>"
   ]
  },
  {
   "cell_type": "markdown",
   "id": "bfbecff4",
   "metadata": {},
   "source": [
    "<h3> The developed code wil show us the main issue of this leason(week4) <h3>"
   ]
  },
  {
   "cell_type": "code",
   "execution_count": 8,
   "id": "ff77c083",
   "metadata": {},
   "outputs": [
    {
     "name": "stdout",
     "output_type": "stream",
     "text": [
      "The mandatory use of credit card to create an account to work with IBM WATSON\n",
      "None\n"
     ]
    }
   ],
   "source": [
    "def the_reason():\n",
    "    print('The mandatory use of credit card to create an account to work with IBM WATSON')\n",
    "print(the_reason())"
   ]
  },
  {
   "cell_type": "markdown",
   "id": "54e08eb4",
   "metadata": {},
   "source": [
    "---\n",
    "<br>\n",
    "itens:\n",
    "<ol>\n",
    "<li>Fish</li>\n",
    "<li>Eggs</li>\n",
    "<li>Cheese</li>\n",
    "</ol>\n",
    "<br>\n",
    "links:\n",
    "<br>\n",
    "\n",
    "__[Fish](\"https://www.google.com/search?q=Fish\")__ \n",
    "<br>\n",
    "__[Eggs](\"https://www.google.com/search?q=Fish\")__ \n",
    "<br>\n",
    "__[Cheese](\"https://www.google.com/search?q=Fish\")__ \n",
    "\n",
    "<br>\n"
   ]
  },
  {
   "cell_type": "code",
   "execution_count": null,
   "id": "019a4ca5",
   "metadata": {},
   "outputs": [],
   "source": []
  }
 ],
 "metadata": {
  "kernelspec": {
   "display_name": "Python 3 (ipykernel)",
   "language": "python",
   "name": "python3"
  },
  "language_info": {
   "codemirror_mode": {
    "name": "ipython",
    "version": 3
   },
   "file_extension": ".py",
   "mimetype": "text/x-python",
   "name": "python",
   "nbconvert_exporter": "python",
   "pygments_lexer": "ipython3",
   "version": "3.8.8"
  }
 },
 "nbformat": 4,
 "nbformat_minor": 5
}
